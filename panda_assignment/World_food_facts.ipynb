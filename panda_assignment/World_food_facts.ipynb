{
 "cells": [
  {
   "cell_type": "code",
   "execution_count": 2,
   "metadata": {},
   "outputs": [],
   "source": [
    "# Import libraries\n",
    "import pandas as pd\n",
    "import numpy as np\n",
    "import matplotlib.pyplot as plt"
   ]
  },
  {
   "cell_type": "code",
   "execution_count": 3,
   "metadata": {},
   "outputs": [],
   "source": [
    "# Load dataset\n",
    "food = pd.read_csv(r\"C:\\Users\\uer\\Desktop\\ntongWork\\Data-Science-Assignment\\nutrition_table.csv\")"
   ]
  },
  {
   "cell_type": "code",
   "execution_count": 4,
   "metadata": {},
   "outputs": [
    {
     "data": {
      "text/html": [
       "<div>\n",
       "<style scoped>\n",
       "    .dataframe tbody tr th:only-of-type {\n",
       "        vertical-align: middle;\n",
       "    }\n",
       "\n",
       "    .dataframe tbody tr th {\n",
       "        vertical-align: top;\n",
       "    }\n",
       "\n",
       "    .dataframe thead th {\n",
       "        text-align: right;\n",
       "    }\n",
       "</style>\n",
       "<table border=\"1\" class=\"dataframe\">\n",
       "  <thead>\n",
       "    <tr style=\"text-align: right;\">\n",
       "      <th></th>\n",
       "      <th>Unnamed: 0</th>\n",
       "      <th>fat_100g</th>\n",
       "      <th>carbohydrates_100g</th>\n",
       "      <th>sugars_100g</th>\n",
       "      <th>proteins_100g</th>\n",
       "      <th>salt_100g</th>\n",
       "      <th>energy_100g</th>\n",
       "      <th>reconstructed_energy</th>\n",
       "      <th>g_sum</th>\n",
       "      <th>exceeded</th>\n",
       "      <th>product</th>\n",
       "    </tr>\n",
       "  </thead>\n",
       "  <tbody>\n",
       "    <tr>\n",
       "      <th>0</th>\n",
       "      <td>1</td>\n",
       "      <td>28.57</td>\n",
       "      <td>64.29</td>\n",
       "      <td>14.29</td>\n",
       "      <td>3.57</td>\n",
       "      <td>0.00000</td>\n",
       "      <td>2243.0</td>\n",
       "      <td>2267.85</td>\n",
       "      <td>96.43</td>\n",
       "      <td>0</td>\n",
       "      <td>Banana Chips Sweetened (Whole)</td>\n",
       "    </tr>\n",
       "    <tr>\n",
       "      <th>1</th>\n",
       "      <td>2</td>\n",
       "      <td>17.86</td>\n",
       "      <td>60.71</td>\n",
       "      <td>17.86</td>\n",
       "      <td>17.86</td>\n",
       "      <td>0.63500</td>\n",
       "      <td>1941.0</td>\n",
       "      <td>2032.23</td>\n",
       "      <td>96.43</td>\n",
       "      <td>0</td>\n",
       "      <td>Peanuts</td>\n",
       "    </tr>\n",
       "    <tr>\n",
       "      <th>2</th>\n",
       "      <td>3</td>\n",
       "      <td>57.14</td>\n",
       "      <td>17.86</td>\n",
       "      <td>3.57</td>\n",
       "      <td>17.86</td>\n",
       "      <td>1.22428</td>\n",
       "      <td>2540.0</td>\n",
       "      <td>2835.70</td>\n",
       "      <td>92.86</td>\n",
       "      <td>0</td>\n",
       "      <td>Organic Salted Nut Mix</td>\n",
       "    </tr>\n",
       "    <tr>\n",
       "      <th>3</th>\n",
       "      <td>7</td>\n",
       "      <td>18.75</td>\n",
       "      <td>57.81</td>\n",
       "      <td>15.62</td>\n",
       "      <td>14.06</td>\n",
       "      <td>0.13970</td>\n",
       "      <td>1833.0</td>\n",
       "      <td>1953.04</td>\n",
       "      <td>90.62</td>\n",
       "      <td>0</td>\n",
       "      <td>Organic Muesli</td>\n",
       "    </tr>\n",
       "    <tr>\n",
       "      <th>4</th>\n",
       "      <td>12</td>\n",
       "      <td>36.67</td>\n",
       "      <td>36.67</td>\n",
       "      <td>3.33</td>\n",
       "      <td>16.67</td>\n",
       "      <td>1.60782</td>\n",
       "      <td>2230.0</td>\n",
       "      <td>2336.91</td>\n",
       "      <td>90.01</td>\n",
       "      <td>0</td>\n",
       "      <td>Zen Party Mix</td>\n",
       "    </tr>\n",
       "  </tbody>\n",
       "</table>\n",
       "</div>"
      ],
      "text/plain": [
       "   Unnamed: 0  fat_100g  carbohydrates_100g  sugars_100g  proteins_100g  \\\n",
       "0           1     28.57               64.29        14.29           3.57   \n",
       "1           2     17.86               60.71        17.86          17.86   \n",
       "2           3     57.14               17.86         3.57          17.86   \n",
       "3           7     18.75               57.81        15.62          14.06   \n",
       "4          12     36.67               36.67         3.33          16.67   \n",
       "\n",
       "   salt_100g  energy_100g  reconstructed_energy  g_sum  exceeded  \\\n",
       "0    0.00000       2243.0               2267.85  96.43         0   \n",
       "1    0.63500       1941.0               2032.23  96.43         0   \n",
       "2    1.22428       2540.0               2835.70  92.86         0   \n",
       "3    0.13970       1833.0               1953.04  90.62         0   \n",
       "4    1.60782       2230.0               2336.91  90.01         0   \n",
       "\n",
       "                          product  \n",
       "0  Banana Chips Sweetened (Whole)  \n",
       "1                         Peanuts  \n",
       "2          Organic Salted Nut Mix  \n",
       "3                  Organic Muesli  \n",
       "4                   Zen Party Mix  "
      ]
     },
     "execution_count": 4,
     "metadata": {},
     "output_type": "execute_result"
    }
   ],
   "source": [
    "# See first five rows\n",
    "food.head(5)"
   ]
  },
  {
   "cell_type": "code",
   "execution_count": 5,
   "metadata": {},
   "outputs": [
    {
     "data": {
      "text/plain": [
       "45028"
      ]
     },
     "execution_count": 5,
     "metadata": {},
     "output_type": "execute_result"
    }
   ],
   "source": [
    "food.shape \n",
    "food.shape[0]"
   ]
  },
  {
   "cell_type": "code",
   "execution_count": 14,
   "metadata": {},
   "outputs": [
    {
     "name": "stdout",
     "output_type": "stream",
     "text": [
      "45028\n"
     ]
    }
   ],
   "source": [
    "print(food.shape[0])"
   ]
  },
  {
   "cell_type": "code",
   "execution_count": 9,
   "metadata": {},
   "outputs": [
    {
     "data": {
      "text/plain": [
       "dtype('float64')"
      ]
     },
     "execution_count": 9,
     "metadata": {},
     "output_type": "execute_result"
    }
   ],
   "source": [
    "\n",
    "food.columns\n",
    "food.columns[10]\n",
    "food.dtypes['sugars_100g']"
   ]
  },
  {
   "cell_type": "code",
   "execution_count": 12,
   "metadata": {},
   "outputs": [
    {
     "name": "stdout",
     "output_type": "stream",
     "text": [
      "Index(['Unnamed: 0', 'fat_100g', 'carbohydrates_100g', 'sugars_100g',\n",
      "       'proteins_100g', 'salt_100g', 'energy_100g', 'reconstructed_energy',\n",
      "       'g_sum', 'exceeded', 'product'],\n",
      "      dtype='object')\n"
     ]
    }
   ],
   "source": [
    "print(food.columns)\n",
    "\n"
   ]
  },
  {
   "cell_type": "code",
   "execution_count": 11,
   "metadata": {},
   "outputs": [
    {
     "name": "stdout",
     "output_type": "stream",
     "text": [
      "product\n"
     ]
    }
   ],
   "source": [
    "print(food.columns[10])"
   ]
  },
  {
   "cell_type": "code",
   "execution_count": 13,
   "metadata": {},
   "outputs": [
    {
     "name": "stdout",
     "output_type": "stream",
     "text": [
      "2342.5\n"
     ]
    }
   ],
   "source": [
    "print(food.values[18][7])\n"
   ]
  }
 ],
 "metadata": {
  "kernelspec": {
   "display_name": "datascience",
   "language": "python",
   "name": "python3"
  },
  "language_info": {
   "codemirror_mode": {
    "name": "ipython",
    "version": 3
   },
   "file_extension": ".py",
   "mimetype": "text/x-python",
   "name": "python",
   "nbconvert_exporter": "python",
   "pygments_lexer": "ipython3",
   "version": "3.11.7"
  }
 },
 "nbformat": 4,
 "nbformat_minor": 2
}
